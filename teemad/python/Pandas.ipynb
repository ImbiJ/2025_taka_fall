{
 "cells": [
  {
   "cell_type": "markdown",
   "id": "f48e311d",
   "metadata": {},
   "source": [
    "# Sissejuhatus Pandase ja Matplotlibi kasutamisse"
   ]
  },
  {
   "cell_type": "markdown",
   "id": "ced8cdc1",
   "metadata": {},
   "source": [
    "## Mis on Pandas?\n",
    "Pandas on populaarne Python'i teek, mis võimaldab mugavalt töödelda tabelandmeid. Seda kasutatakse andmeteaduses, analüüsis ja visualiseerimises. Pandas teeb andmete puhastamise, filtreerimise, sorteerimise ja analüüsi lihtsaks."
   ]
  },
  {
   "cell_type": "markdown",
   "id": "d88c6038",
   "metadata": {},
   "source": [
    "Pandas ja Matplotlib on olulised Python'i teegid andmete töötlemiseks ja visualiseerimiseks. Andmeteaduses on tähtis osata andmeid tõhusalt hallata ja tulemusi selgelt esitada."
   ]
  },
  {
   "cell_type": "markdown",
   "id": "980a2f26",
   "metadata": {},
   "source": [
    "## Andmeteaduse töövoog\n",
    "Tüüpiline töövoog: andmete laadimine → puhastamine/ettevalmistus → analüüs → visualiseerimine → tulemuste esitamine. Pandast kasutatakse andmete haldamiseks ja analüüsiks, Matplotlibi visualiseerimiseks.\n",
    "\n",
    "**Hea praktika:**\n",
    "- Ära muuda originaalset DataFrame'i, vaid loo iga olulisema sammu jaoks uus muutuja (nt df_clean, df_sorted). Nii on töövoog jälgitav ja vigu lihtsam leida.\n",
    "- Kui teed järjestikku mitu operatsiooni, kasuta Pandase .pipe() meetodit, mis võimaldab funktsioone järjestada ja koodi loetavust parandada.\n",
    "\n",
    "Näide [pipe](https://pandas.pydata.org/docs/reference/api/pandas.DataFrame.pipe.html) kasutamisest:\n",
    "\n",
    "df_clean = (\n",
    "    df.dropna()\n",
    "      .pipe(lambda d: d[d['age'] > 18])\n",
    "      .sort_values('income', ascending=False)\n",
    ")"
   ]
  },
  {
   "cell_type": "markdown",
   "id": "9d7a440c",
   "metadata": {},
   "source": [
    "## Pandase põhikontseptsioonid\n",
    "Pandasel on kaks põhilist andmestruktuuri: **Series** (1-mõõtmeline) ja **DataFrame** (2-mõõtmeline).\n",
    "- DataFrame on nagu arvutustabel: iga veerg on Series ja kõigil veergudel on sama indeks."
   ]
  },
  {
   "cell_type": "code",
   "execution_count": null,
   "id": "0628c7c3",
   "metadata": {},
   "outputs": [],
   "source": [
    "import pandas as pd\n",
    "\n",
    "# Series loomine\n",
    "s = pd.Series([1, 2, 3, 4])\n",
    "print(s)\n",
    "\n",
    "# Näidisandmestiku loomine DataFrame'ina\n",
    "df = pd.DataFrame({\n",
    "    'name': ['Anna', 'Jaan', 'Mari', 'Peeter', 'Liis'],\n",
    "    'age': [22, 35, 19, 42, 28],\n",
    "    'city': ['Tallinn', 'Tartu', 'Tallinn', 'Pärnu', 'Tartu'],\n",
    "    'income': [1200, 2100, 950, 1800, 1600]\n",
    "})\n",
    "print(df)"
   ]
  },
  {
   "cell_type": "markdown",
   "id": "3276b738",
   "metadata": {},
   "source": [
    "## Andmetüübid Pandases\n",
    "Pandas DataFrame'i iga veerg omab kindlat andmetüüpi, mis määrab, kuidas andmeid töödeldakse ja milliseid operatsioone saab teha. Olulised tüübid on:\n",
    "- **object**: Tekst (stringid), segatüüpi väärtused. Näide: ['Tallinn', 'Tartu']\n",
    "- **int**: Täisarvud. Näide: [1, 2, 3]\n",
    "- **float**: Ujukomaarvud (komaga arvud). Näide: [3.14, 2.0]\n",
    "- **bool**: Tõeväärtused (True/False). Näide: [True, False, True]\n",
    "- **datetime64**: Kuupäevad ja kellaajad. Näide: ['2023-01-01', '2024-06-01']\n",
    "\n",
    "Täisarvude puhul on Pandases mitmeid alamliike, mis määravad, kui palju mälu veerg kasutab:\n",
    "- **Int16**: 16-bitine täisarv (-32768 kuni 32767). Sobib väikeste arvude jaoks, säästab mälu. Lubab puuduvaid väärtusi (pandas.NA).\n",
    "- **Int32**: 32-bitine täisarv (-2 147 483 648 kuni 2 147 483 647). Kasutatakse suuremate arvude jaoks. Lubab puuduvaid väärtusi (pandas.NA).\n",
    "\n",
    "Erinevalt NumPy int tüüpidest lubavad Pandase Int16 ja Int32 tüübid puuduvaid väärtusi, mis on kasulik näiteks ankeetandmete või mittetäielike andmestike puhul.\n",
    "Kui tead, et veerus on ainult väikeseid arve, kasuta Int16, et vähendada mälukasutust. Suuremate arvude jaoks kasuta Int32 või Int64.\n",
    "\n",
    "### Näited erinevatest andmetüüpidest Pandases:"
   ]
  },
  {
   "cell_type": "code",
   "execution_count": null,
   "id": "d2dee6c1",
   "metadata": {},
   "outputs": [],
   "source": [
    "import pandas as pd\n",
    "\n",
    "df_types = pd.DataFrame({\n",
    "    'nimi': ['Anna', 'Jaan'],  # object\n",
    "    'vanus': pd.Series([22, pd.NA], dtype='Int16'),  # Int16 lubab puuduvaid väärtusi\n",
    "    'palk': [1200.5, 2100.0],  # float\n",
    "    'aktiivne': [True, False],  # bool\n",
    "    'liitumise_kuup': pd.to_datetime(['2023-01-01', '2024-06-01'])  # datetime64\n",
    "})\n",
    "print(df_types.dtypes)\n",
    "print(df_types)\n",
    "\n",
    "# Tüübi muutmine Int32 peale (ka Int32 lubab puuduvaid väärtusi)\n",
    "df_types['vanus'] = df_types['vanus'].astype('Int32')\n",
    "print(df_types.dtypes)"
   ]
  },
  {
   "cell_type": "markdown",
   "id": "44e6f9f0",
   "metadata": {},
   "source": [
    "Tüüpide kontroll ja muutmine on oluline, et vältida vigu ja optimeerida mälukasutust. Näiteks Int16 sobib väikeste arvude jaoks, Int32 suuremate jaoks. Kuupäevadega töötamiseks kasuta datetime64 tüüpi. Puuduvate väärtuste jaoks kasuta Pandase Int-tüüpe, mitte NumPy int-tüüpe."
   ]
  },
  {
   "cell_type": "markdown",
   "id": "30a04e84",
   "metadata": {},
   "source": [
    "## Indekseerimine ja indeksi muutmine\n",
    "Igal DataFrame'il on indeks, mis määrab ridade järjestuse ja identiteedi. Vaikimisi on indeks numbriline (0, 1, 2, ...), kuid tihti on kasulik kasutada tähenduslikku indeksit, näiteks nime, kuupäeva või unikaalset koodi.\n",
    "\n",
    "**Miks määrata eraldi indeks?**\n",
    "- Kiirem ja mugavam andmete otsimine (nt df.loc['Anna'])\n",
    "- Loogilisem andmete struktuur, eriti kui ridadel on unikaalne tunnus\n",
    "- Grupitöötlus ja joinimine teiste andmestikega on lihtsam\n",
    "- Ajalooliste andmete puhul saab kasutada kuupäeva indeksina\n",
    "\n",
    "Kui ekspordid andmed Excelisse või Parquet-faili ja kasutad index=False, siis indeksit ei salvestata. Selle vältimiseks tee indeksist tulp tagasi."
   ]
  },
  {
   "cell_type": "code",
   "execution_count": null,
   "id": "8085a40d",
   "metadata": {},
   "outputs": [],
   "source": [
    "# Indeksi määramine veeru põhjal\n",
    "df_indexed = df.set_index('name')\n",
    "print(df_indexed)\n",
    "\n",
    "# Andmete otsimine indeksi abil\n",
    "print(df_indexed.loc['Anna'])\n",
    "\n",
    "# Indeksist tulba tegemine (enne eksporti)\n",
    "df_reset = df_indexed.reset_index()\n",
    "print(df_reset)"
   ]
  },
  {
   "cell_type": "markdown",
   "id": "a90a5964",
   "metadata": {},
   "source": [
    "## Andmete sorteerimine\n",
    "Sorteerimine aitab leida suurimaid/väiksemaid väärtusi või järjestada andmeid loogiliselt.\n",
    "\n",
    "### Sorteerimine ühe või mitme tulba järgi\n",
    "Saad sorteerida ühe või mitme tulba järgi, määrates tulbanimed listina. Näiteks vanuse ja sissetuleku järgi:"
   ]
  },
  {
   "cell_type": "code",
   "execution_count": null,
   "id": "091f6737",
   "metadata": {},
   "outputs": [],
   "source": [
    "# Sorteeri vanuse järgi kahanevalt\n",
    "df_sorted = df.sort_values('age', ascending=False)\n",
    "print(df_sorted)\n",
    "\n",
    "# Sorteeri vanuse ja sissetuleku järgi\n",
    "df_multi_sorted = df.sort_values(['age', 'income'], ascending=[True, False])\n",
    "print(df_multi_sorted)"
   ]
  },
  {
   "cell_type": "markdown",
   "id": "129a032b",
   "metadata": {},
   "source": [
    "### Sorteerimine custom funktsiooniga\n",
    "Alates Pandas 1.1 saab kasutada sort_values(key=...), kus key on funktsioon (vaata ka [lambda funktsioone](https://docs.python.org/3/reference/expressions.html#lambda)), mis rakendatakse sorteeritavale veerule. Näiteks sorteerida nime pikkuse järgi."
   ]
  },
  {
   "cell_type": "code",
   "execution_count": null,
   "id": "0427cf7b",
   "metadata": {},
   "outputs": [],
   "source": [
    "# Sorteeri nime pikkuse järgi (custom funktsiooniga, Pandas >=1.1)\n",
    "df_custom_sorted = df.sort_values('name', key=lambda x: x.str.len())\n",
    "print(df_custom_sorted)"
   ]
  },
  {
   "cell_type": "markdown",
   "id": "ebc16b8b",
   "metadata": {},
   "source": [
    "## Uute veergude lisamine ja arvutamine\n",
    "Sageli on vaja arvutada uusi veerge olemasolevate põhjal, näiteks arvutada netosissetulek, määrata vanusekategooria või luua bool-tunnus (True/False). Uued veerud aitavad andmeid paremini analüüsida ja visualiseerida.\n",
    "\n",
    "Uue veeru saab lisada lihtsalt, omistades DataFrame'ile uue tulbanime:\n",
    "- Arvutatud veerg: df['income_tax'] = df['income'] * 0.24\n",
    "- Kategooria: df['age_group'] = pd.cut(df['age'], bins=[0,18,65,100], labels=['alaealine','täiskasvanu','eakas'])\n",
    "- Bool-tunnus: df['is_adult'] = df['age'] >= 18\n",
    "\n",
    "## Tabelite liitmine (joinimine)\n",
    "Tabelite liitmine (merge/join) võimaldab ühendada andmeid erinevatest allikatest. Joinimiseks peab olema:\n",
    "- Ühine veerg (või indeks), mille alusel liita\n",
    "- Veerud peavad olema sama andmetüübiga\n",
    "- Soovitavalt unikaalsed väärtused liitmisveerus vähemalt ühes tabelis\n",
    "\n",
    "Kõige levinum meetod on pd.merge():"
   ]
  },
  {
   "cell_type": "code",
   "execution_count": null,
   "id": "06d1da39",
   "metadata": {},
   "outputs": [],
   "source": [
    "# Uue veeru loomine\n",
    "df['income_tax'] = df['income'] * 0.24  # Näiteks tulumaksu arvutamine\n",
    "df['is_adult'] = df['age'] >= 18 # tekitab boolean veeru: True/False\n",
    "print(df)\n",
    "\n",
    "# Tabelite liitmine (joinimine)\n",
    "df_extra = pd.DataFrame({\n",
    "    'name': ['Anna', 'Jaan', 'Mari'],\n",
    "    'hobby': ['jooga', 'matkamine', 'lugemine']\n",
    "})\n",
    "df_joined = pd.merge(df, df_extra, on='name', how='left')\n",
    "print(df_joined)"
   ]
  },
  {
   "cell_type": "markdown",
   "id": "a1d80b0a",
   "metadata": {},
   "source": [
    "`pd.concat()` ühendab tabeleid kas ridade (`axis=0`) või veergude (`axis=1`) kaupa. Kasuta concat'i, kui soovid lihtsalt tabeleid järjestada või veerge kokku panna, mitte liita ühise veeru alusel nagu merge/join."
   ]
  },
  {
   "cell_type": "code",
   "execution_count": null,
   "id": "d308336d",
   "metadata": {},
   "outputs": [],
   "source": [
    "# Tabelite ühendamine (concat) ridade kaupa\n",
    "df_part1 = df.iloc[:3]\n",
    "df_part2 = df.iloc[3:]\n",
    "df_concat = pd.concat([df_part1, df_part2], axis=0)\n",
    "print(df_concat)\n",
    "\n",
    "# Tabelite ühendamine (concat) veergude kaupa\n",
    "df_cols1 = df[['name', 'age']]\n",
    "df_cols2 = df[['city', 'income']]\n",
    "df_concat_cols = pd.concat([df_cols1, df_cols2], axis=1)\n",
    "print(df_concat_cols)"
   ]
  },
  {
   "cell_type": "markdown",
   "id": "5d531ff9",
   "metadata": {},
   "source": [
    "## Andmete inspekteerimine\n",
    "Enne analüüsi on oluline oma andmeid tundma õppida."
   ]
  },
  {
   "cell_type": "code",
   "execution_count": null,
   "id": "a96fcdf0",
   "metadata": {},
   "outputs": [],
   "source": [
    "# Esimeste ja viimaste ridade vaatamine\n",
    "print(df.head())\n",
    "print(df.tail())"
   ]
  },
  {
   "cell_type": "markdown",
   "id": "9a66fcf3",
   "metadata": {},
   "source": [
    "`info` on üks kasulikumaid meetodeid, mis annab ülevaate veergude andmetüüpide ja puuduvatest väärtustest. See aitab mõista, milliseid andmeid on ja kas on vaja andmeid puhastada või teisendada."
   ]
  },
  {
   "cell_type": "code",
   "execution_count": null,
   "id": "f546c722",
   "metadata": {},
   "outputs": [],
   "source": [
    "# Veergude info ja puuduvate väärtuste kontroll\n",
    "df.info()"
   ]
  },
  {
   "cell_type": "markdown",
   "id": "3148263f",
   "metadata": {},
   "source": [
    "`describe` annab statistilise kokkuvõtte arvuliste veergude kohta (nt keskmine, mediaan, min, max, kvartilid). See aitab mõista andmete jaotust ja leida võimalikke anomaaliaid. Kokkuvõte arvutatakse ainult arvuliste veergude kohta."
   ]
  },
  {
   "cell_type": "code",
   "execution_count": null,
   "id": "a2e2181a",
   "metadata": {},
   "outputs": [],
   "source": [
    "# Statistiline kokkuvõte\n",
    "df.describe()"
   ]
  },
  {
   "cell_type": "markdown",
   "id": "0948cf56",
   "metadata": {},
   "source": [
    "## Veergude ja ridade valik ning filtreerimine\n",
    "Veergude valimiseks kasuta `[[]]` notatsiooni: df[['name', 'age']] valib veerud 'name' ja 'age'. Ridade ja veergude täpsemaks valikuks kasuta `.loc[]` meetodit: df.loc[<indeks>, <veerg>].\n",
    "\n",
    "- `[[]]` notatsioon valib veerge nime järgi, nt df[['name', 'age']].\n",
    "- `.loc[]` võimaldab valida ridasid ja veerge indeksi ja veeru nime järgi, nt df.loc[0, 'name'] või df.loc[df['age'] > 18, ['name', 'age']].\n",
    "\n",
    "Filtreerimiseks kasuta tingimusi, nt df[df['age'] > 18]. Tingimusi saab kombineerida (&, |).\n",
    "\n",
    "### Iteratiivne filtreerimine pipe meetodiga\n",
    "Kui soovid järjestikku mitut filtrit rakendada, kasuta pipe meetodit, mis muudab koodi loetavamaks."
   ]
  },
  {
   "cell_type": "code",
   "execution_count": null,
   "id": "d6ac338b",
   "metadata": {},
   "outputs": [],
   "source": [
    "# Veeru valimine [[]] notatsiooniga\n",
    "alamvalik = df[['name', 'age']]\n",
    "print(alamvalik)\n",
    "\n",
    "# Ridade ja veergude valik .loc abil\n",
    "valik = df.loc[df['age'] > 18, ['name', 'city']]\n",
    "print(valik)\n",
    "\n",
    "# Iteratiivne filtreerimine pipe meetodiga\n",
    "df_filtered = (\n",
    "    df.pipe(lambda d: d[d['age'] > 18])\n",
    "      .pipe(lambda d: d[d['income'] > 1500])\n",
    "      .pipe(lambda d: d[d['city'] == 'Tartu'])\n",
    ")\n",
    "print(df_filtered)"
   ]
  },
  {
   "cell_type": "markdown",
   "id": "8ccd20fd",
   "metadata": {},
   "source": [
    "## Puuduvate andmete käsitlemine\n",
    "Puuduvad andmed on tavalised ja nendega tuleb teadlikult ümber käia. Puuduvad väärtused võivad tekkida andmete kogumisel, vigade tõttu või seetõttu, et osa infot pole lihtsalt olemas.\n",
    "\n",
    "**Levinumad praktikad puuduvate väärtuste käsitlemisel:**\n",
    "- Puuduvate ridade eemaldamine (df.dropna()) – kasuta, kui puuduvus on juhuslik ja andmeid jääb piisavalt alles.\n",
    "- Puuduvate väärtuste täitmine (df.fillna()) – kasuta, kui täitmine ei moonuta analüüsi (nt keskmise, mediaani, nulliga).\n",
    "- Puuduvuse analüüs – vaata, kas puuduvus on juhuslik või süsteemne (nt ainult teatud grupis).\n",
    "- Märgi puuduvad väärtused eraldi tunnusega, kui see on analüüsi jaoks oluline.\n",
    "\n",
    "**Mida silmas pidada:**\n",
    "- Kas puuduvus mõjutab analüüsi tulemusi?\n",
    "- Kas täitmine või eemaldamine moonutab andmete jaotust?\n",
    "- Kas eemaldamine vähendab oluliselt andmete hulka?\n",
    "- Kas puuduvus on seotud mingi tunnusega (nt vanusegrupp, linn)?\n",
    "\n",
    "Alati analüüsi puuduvate väärtuste mustrit enne otsuse tegemist!"
   ]
  },
  {
   "cell_type": "code",
   "execution_count": null,
   "id": "acd713bd",
   "metadata": {},
   "outputs": [],
   "source": [
    "# Puuduvate väärtuste arv veergude kaupa\n",
    "print(df.isnull().sum())\n",
    "# Ridade eemaldamine, kus on puuduvad andmed\n",
    "df_puhas = df.dropna()\n",
    "# Puuduvate väärtuste täitmine\n",
    "df_taidetud = df.fillna(0)  # Või df.fillna(df.mean()) arvuliste veergude jaoks"
   ]
  },
  {
   "cell_type": "markdown",
   "id": "9212438c",
   "metadata": {},
   "source": [
    "## Grupeerimine ja agregatsioon\n",
    "Grupeerimine võimaldab andmeid jagada kategooriate kaupa ja rakendada igale grupile agregatsioonifunktsioone (nt keskmine, summa, min, max).\n",
    "\n",
    "Agregatsioonifunktsioonid antakse Pandasele tavaliselt jutumärkides (nt 'mean'), sest need on Pandase sisseehitatud funktsioonide nimed. Võid kasutada ka Python funktsioone (nt np.mean, lambda vms).\n",
    "\n",
    "**Levinumad agregatsioonifunktsioonid:**\n",
    "- 'mean' – keskmine\n",
    "- 'sum' – summa\n",
    "- 'min' – miinimum\n",
    "- 'max' – maksimum\n",
    "- 'count' – ridade arv\n",
    "- 'median' – mediaan\n",
    "- 'std' – standardhälve\n",
    "\n",
    "Agregatsioonifunktsioone saab kasutada nii stringina kui funktsioonina:\n",
    "- df.groupby('city').agg({'income': 'mean'})\n",
    "- df.groupby('city').agg({'income': np.mean})\n",
    "\n",
    "### Custom funktsiooni kasutamine agregatsioonis\n",
    "Võid defineerida oma funktsiooni ja kasutada seda groupby.agg sees. Näiteks arvutada veeru väärtuste vahe (max-min):"
   ]
  },
  {
   "cell_type": "code",
   "execution_count": null,
   "id": "7d7f58aa",
   "metadata": {},
   "outputs": [],
   "source": [
    "# Grupeerimine ja erinevad agregatsioonid\n",
    "import numpy as np\n",
    "\n",
    "# Standardne agregatsioon\n",
    "agg_df = df.groupby('city').agg({'age': 'mean', 'income': 'sum'})\n",
    "print(agg_df)\n",
    "\n",
    "# Mitme agregatsioonifunktsiooni kasutamine\n",
    "agg_multi = df.groupby('city').agg({'income': ['mean', 'min', 'max', 'std']})\n",
    "print(agg_multi)\n",
    "\n",
    "# Custom funktsioon: vahe (max-min)\n",
    "def vahe(x):\n",
    "    return x.max() - x.min()\n",
    "agg_custom = df.groupby('city').agg({'income': vahe})\n",
    "print(agg_custom)"
   ]
  },
  {
   "cell_type": "markdown",
   "id": "d1749f27",
   "metadata": {},
   "source": [
    "`groupby` võimaldab igat gruppi eraldi töödelda. Saad iga grupi nime ja selle grupi alam-DataFrame'i, mida saab analüüsida, salvestada või visualiseerida."
   ]
  },
  {
   "cell_type": "code",
   "execution_count": null,
   "id": "bbf0599e",
   "metadata": {},
   "outputs": [],
   "source": [
    "# Prindi iga grupi alam-DataFrame\n",
    "for city, group_df in df.groupby('city'):\n",
    "    print(f'Grupi nimi: {city}')\n",
    "    print(group_df)\n",
    "    print('---')"
   ]
  },
  {
   "cell_type": "markdown",
   "id": "925e8087",
   "metadata": {},
   "source": [
    "## Andmete salvestamine faili\n",
    "Töödeldud andmed saab salvestada erinevatesse formaatidesse, et neid hiljem kasutada või jagada."
   ]
  },
  {
   "cell_type": "code",
   "execution_count": null,
   "id": "e53ae2a8",
   "metadata": {},
   "outputs": [],
   "source": [
    "# Salvestamine CSV-faili\n",
    "df.to_csv('output.csv', index=False)\n",
    "# Salvestamine Excel-faili\n",
    "df.to_excel('output.xlsx', index=False)\n",
    "# Salvestamine Parquet-faili\n",
    "df.to_parquet('output.parquet')"
   ]
  },
  {
   "cell_type": "markdown",
   "id": "693b77fb",
   "metadata": {},
   "source": [
    "# Andmete lugemine failist\n",
    "Pandas võimaldab lugeda andmeid erinevatest failiformaatidest. Allpool on näited, kuidas lugeda CSV, Excel ja Parquet faile."
   ]
  },
  {
   "cell_type": "code",
   "execution_count": null,
   "id": "fc9f120b",
   "metadata": {},
   "outputs": [],
   "source": [
    "# CSV-faili lugemine\n",
    "df_csv = pd.read_csv('andmed.csv')\n",
    "# Excel-faili lugemine\n",
    "df_excel = pd.read_excel('andmed.xlsx')\n",
    "# Parquet-faili lugemine\n",
    "df_parquet = pd.read_parquet('andmed.parquet')"
   ]
  },
  {
   "cell_type": "markdown",
   "id": "5483de80",
   "metadata": {},
   "source": [
    "## Andmete lugemine ja salvestamine\n",
    "Andmeid saab Pandases lugeda ja salvestada erinevatesse failiformaatidesse. Mõned levinumad näited:\n",
    "- **CSV**: Universaalne, lihtne tekstiformaat, sobib hästi andmete vahetamiseks erinevate programmide vahel. Ei säilita andmetüüpe ega vormingut.\n",
    "- **Excel (XLSX)**: Mugav kontoritööks, toetab mitut lehte ja vormingut, kuid pole nii tõhus suurte andmete jaoks.\n",
    "- **Parquet**: Tõhus, kiire ja kompaktne binaarformaat, sobib suurte andmete salvestamiseks ja töötlemiseks. Säilitab andmetüübid.\n",
    "\n",
    "CSV on kõige universaalsem ja sobib andmete jagamiseks erinevate platvormide vahel. Parquet on eelistatud suurte andmete ja analüüsi jaoks, Excel sobib kontoritööks ja väiksemate andmete puhul."
   ]
  },
  {
   "cell_type": "code",
   "execution_count": null,
   "id": "810f7815",
   "metadata": {},
   "outputs": [],
   "source": [
    "# Andmete salvestamine erinevatesse formaatidesse\n",
    "df.to_csv('output.csv', index=False)\n",
    "# df.to_excel('output.xlsx', index=False) # vajab openpyxl paketti, mida ei pruugi vaikimisi olla installitud\n",
    "df.to_parquet('output.parquet')"
   ]
  },
  {
   "cell_type": "code",
   "execution_count": 21,
   "id": "65bd623b",
   "metadata": {},
   "outputs": [],
   "source": [
    "# Andmete lugemine erinevatest failidest\n",
    "df_csv = pd.read_csv('output.csv')\n",
    "# df_excel = pd.read_excel('output.xlsx')\n",
    "df_parquet = pd.read_parquet('output.parquet')"
   ]
  }
 ],
 "metadata": {
  "kernelspec": {
   "display_name": "Python 3",
   "language": "python",
   "name": "python3"
  },
  "language_info": {
   "codemirror_mode": {
    "name": "ipython",
    "version": 3
   },
   "file_extension": ".py",
   "mimetype": "text/x-python",
   "name": "python",
   "nbconvert_exporter": "python",
   "pygments_lexer": "ipython3",
   "version": "3.12.1"
  }
 },
 "nbformat": 4,
 "nbformat_minor": 5
}
